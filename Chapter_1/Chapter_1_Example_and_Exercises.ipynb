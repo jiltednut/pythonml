{
 "cells": [
  {
   "cell_type": "code",
   "execution_count": 21,
   "metadata": {},
   "outputs": [],
   "source": [
    "import pandas as pd\n",
    "import numpy as np\n",
    "import matplotlib.pyplot as plt\n",
    "import sklearn.linear_model\n",
    "import sklearn.neighbors\n",
    "%matplotlib inline"
   ]
  },
  {
   "cell_type": "code",
   "execution_count": 4,
   "metadata": {},
   "outputs": [],
   "source": [
    "# Load the data\n",
    "oecd_bli = pd.read_csv(\"..\\\\Github_Files\\\\datasets\\\\lifesat\\\\oecd_bli_2015.csv\")\n",
    "gdp_per_capita = pd.read_csv(\"..\\\\Github_Files\\\\datasets\\\\lifesat\\\\gdp_per_capita.csv\", \n",
    "                            thousands = ',',\n",
    "                            delimiter = '\\t',\n",
    "                            encoding = 'latin1',\n",
    "                            na_values = 'n/a')"
   ]
  },
  {
   "cell_type": "code",
   "execution_count": 12,
   "metadata": {},
   "outputs": [],
   "source": [
    "def prepare_country_stats(oecd_bli, gdp_per_capita):\n",
    "    oecd_bli = oecd_bli[oecd_bli[\"INEQUALITY\"]==\"TOT\"]\n",
    "    oecd_bli = oecd_bli.pivot(index=\"Country\", columns=\"Indicator\", values=\"Value\")\n",
    "    gdp_per_capita.rename(columns={\"2015\": \"GDP per capita\"}, inplace=True)\n",
    "    #gdp_per_capita.set_index(\"Country\", inplace=True)\n",
    "    full_country_stats = pd.merge(left=oecd_bli, right=gdp_per_capita,\n",
    "                                  left_index=True, right_index=True)\n",
    "    full_country_stats.sort_values(by=\"GDP per capita\", inplace=True)\n",
    "    remove_indices = [0, 1, 6, 8, 33, 34, 35]\n",
    "    keep_indices = list(set(range(36)) - set(remove_indices))\n",
    "    return full_country_stats[[\"GDP per capita\", 'Life satisfaction']].iloc[keep_indices]"
   ]
  },
  {
   "cell_type": "code",
   "execution_count": 13,
   "metadata": {},
   "outputs": [],
   "source": [
    "# Prepare the data\n",
    "country_stats = prepare_country_stats(oecd_bli, gdp_per_capita)\n",
    "X = np.c_[country_stats['GDP per capita']]\n",
    "y = np.c_[country_stats['Life satisfaction']]"
   ]
  },
  {
   "cell_type": "code",
   "execution_count": 18,
   "metadata": {},
   "outputs": [
    {
     "data": {
      "text/plain": [
       "<AxesSubplot:xlabel='GDP per capita', ylabel='Life satisfaction'>"
      ]
     },
     "execution_count": 18,
     "metadata": {},
     "output_type": "execute_result"
    },
    {
     "data": {
      "image/png": "[encoded data removed]",
      "text/plain": [
       "<Figure size 432x288 with 1 Axes>"
      ]
     },
     "metadata": {
      "needs_background": "light"
     },
     "output_type": "display_data"
    }
   ],
   "source": [
    "# Display a scatterplot to visualise the data\n",
    "country_stats.plot(kind = \"scatter\", x = 'GDP per capita', y = 'Life satisfaction')"
   ]
  },
  {
   "cell_type": "code",
   "execution_count": 23,
   "metadata": {},
   "outputs": [
    {
     "name": "stdout",
     "output_type": "stream",
     "text": [
      "[[5.96242338]]\n",
      "[[5.76666667]]\n"
     ]
    }
   ],
   "source": [
    "# Select a linear model\n",
    "model_lm = sklearn.linear_model.LinearRegression()\n",
    "\n",
    "# or\n",
    "\n",
    "# Select an instance based model\n",
    "model_kn = sklearn.neighbors.KNeighborsRegressor(n_neighbors = 3)\n",
    "\n",
    "# Fit the models to the training data\n",
    "model_lm.fit(X, y)\n",
    "model_kn.fit(X, y)\n",
    "\n",
    "# Predict the life satisfaction of a new input\n",
    "X_new = [[22587]]\n",
    "print(model_lm.predict(X_new))\n",
    "print(model_kn.predict(X_new))"
   ]
  },
  {
   "cell_type": "markdown",
   "metadata": {},
   "source": [
    "### Exercises:"
   ]
  },
  {
   "cell_type": "markdown",
   "metadata": {},
   "source": [
    "<ui>1. Machine learning is the process of modelling a system of data using statistical techniques that allows for new data to improve the descriptive and predictive ability of the model.<br>\n",
    "\n",
    "<ui>2. Machine learning is most effective in situations where:<br>\n",
    "&ensp;a. Problems exist with long lists of rules or that require a lot of hand tuning.<br>\n",
    "&ensp;b. Problems where a traditional approach cannot determine a solution.<br>\n",
    "&ensp;c. Problems that emerge from fluctuating environments with new and novel data.<br>\n",
    "&ensp;d. Insights are needed from complex problems or from large amounts of data.<br>\n",
    "\n",
    "<ui>3. A labeled training set is a set of data that is used to train a predictive model using a target variable contained in the dataset.<br>\n",
    "    \n",
    "<ui>4. The 2 most common supervised tasks are regression (predicting a numeric value) and classification (predicting the class of an observation).<br>\n",
    "    \n",
    "<ui>5. 4 common unsupercised tasks are: clustering (detecting and categorising observations with similar attributes), anomaly detection (detecting observations that are unusual in a sample vs typical \"trained\" observations), dimensionality reduction (identifying the attributes that explain the highest/lowest proportions of the variance in a sample), association rules (developing rules of common sequences/groupings of events i.e. buy A then likely to buy B then C)<br>\n",
    "    \n",
    "<ui>6. A reinforcement learning algorithm should be used to teach a robot to walk in unknown terrain.<br>\n",
    "\n",
    "<ui>7. A clustering algorithm should be used to segment customers into similar groups.<br>\n",
    "    \n",
    "<ui>8. Spam detection is a supervised learning problem as the model will be trained to classify emails as spam or not spam using labeled training data.<br>\n",
    "\n",
    "<ui>9. An online learning system is one that learns incrementally from new data as it is processed by the model using either individual observations or mini-batches of observations.<br>\n",
    "\n",
    "<ui>10. Out of core training is a form of online learning where the training data is too large to fit in memory. The model is trained using sequential chunks of the data until the whole dataset has been used to form part of a training cycle.<br>\n",
    "\n",
    "<ui>11. Instance based models rely on a similarity measure to make predictions e.g. KNN<br>\n",
    "    \n",
    "<ui>12. A model parameter is a parameter of the model itself e.g. the intercept or slope in a linear regression, where a hyperparameter is a parameter of the learning alogrithm e.g. regularisation rate in logistic regression.<br>\n",
    "  \n",
    "<ui>13. Model based algorithms search for the model parameters that will minimise an associated cost function or maximise an associated fitness function. They make predictions by applying the function described using the found parameters to the new or existing observations.<br>\n",
    "    \n",
    "<ui>14. The 4 main challenges of machine learning are - Insufficient quantity of data, non-representative data (data that has bias towards a certain class in the sample and underrepresents other classes), poor quality data (data full of outliers, errors, missing data, noise), data with irrelevant features and also bad algorithms that either under or over fit the model to the training data.<br>\n",
    "  \n",
    "<ui>15. In this case, the model has been poorly fit to the data. Possible solutions include: increase the amount of data in the training set to give the model a more representative base, controlling the constraints on a model to simplify the model e.g. tuning the algorithms hyperparameters to control regularisation rate, feeding better features to the model.<br>\n",
    "    \n",
    "<ui>16. A test set is a portion of the training data that is held back to perform validation of the trained model.<br>\n",
    "    \n",
    "<ui>17. A validation set is used to estimate prediction error for model selection.<br>\n",
    "    \n",
    "<ui>18. Typically a test set is smaller than a training set, so tuning hyperparameters with the test set can lead to porr generalisation of the model.<br>\n",
    "    \n",
    "<ui>19. Repeated cross validation is preferrable to a single validation set as it gives a much more accurate measure of the performance of the model. A single validation set can suffer from sampling errors or bias whereas the repeated cross validation is performed multiple times across the entire dataset.<br>"
   ]
  }
 ],
 "metadata": {
  "kernelspec": {
   "display_name": "Python 3",
   "language": "python",
   "name": "python3"
  },
  "language_info": {
   "codemirror_mode": {
    "name": "ipython",
    "version": 3
   },
   "file_extension": ".py",
   "mimetype": "text/x-python",
   "name": "python",
   "nbconvert_exporter": "python",
   "pygments_lexer": "ipython3",
   "version": "3.8.5"
  }
 },
 "nbformat": 4,
 "nbformat_minor": 4
}
